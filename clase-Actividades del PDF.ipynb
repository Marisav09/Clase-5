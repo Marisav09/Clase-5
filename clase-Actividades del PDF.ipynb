{
 "cells": [
  {
   "cell_type": "code",
   "execution_count": null,
   "metadata": {},
   "outputs": [],
   "source": [
    "1. Ingresar dos números por teclado a y b. Si a es mayor que b,\n",
    "imprimir ‘Hola Politécnico Malvinas’"
   ]
  },
  {
   "cell_type": "code",
   "execution_count": 10,
   "metadata": {},
   "outputs": [
    {
     "name": "stdout",
     "output_type": "stream",
     "text": [
      "Ingrese un numero, el cual asignaremos como A: \n",
      "Ingrese un numero, el cual asignaremos como B: \n",
      "\n"
     ]
    }
   ],
   "source": [
    "a=int(input(print(\"Ingrese un numero, el cual asignaremos como A: \")))\n",
    "b=int(input(print(\"Ingrese un numero, el cual asignaremos como B: \")))\n",
    "saludo= \"Hola Politécnico Malvinas\" if a > b else \"\"\n",
    "print(saludo)"
   ]
  },
  {
   "cell_type": "markdown",
   "metadata": {},
   "source": [
    "2. Ingresar dos números por teclado a y b. Si a no es igual a b, imprimir\n",
    "‘Hola Politécnico Malvinas’"
   ]
  },
  {
   "cell_type": "markdown",
   "metadata": {},
   "source": [
    "3. Ingresar dos números por teclado a y b. Si a es igual a b, imprimir\n",
    "‘son iguales’ sino imprimir ‘son distintos’"
   ]
  },
  {
   "cell_type": "code",
   "execution_count": null,
   "metadata": {},
   "outputs": [],
   "source": []
  },
  {
   "cell_type": "markdown",
   "metadata": {},
   "source": [
    "4. Ingresar dos números por teclado a y b. Si a es igual a b, imprimir 1\n",
    "si a es mayor que b, imprimir 2 sino imprimir 3."
   ]
  },
  {
   "cell_type": "code",
   "execution_count": null,
   "metadata": {},
   "outputs": [],
   "source": []
  },
  {
   "cell_type": "markdown",
   "metadata": {},
   "source": [
    "5. Ingrese cuatro números por teclado a, b, c y d. Si a es igual b y c es\n",
    "igual a d, imprimir ‘Hola Politécnico Malvinas’"
   ]
  },
  {
   "cell_type": "code",
   "execution_count": null,
   "metadata": {},
   "outputs": [],
   "source": []
  },
  {
   "cell_type": "markdown",
   "metadata": {},
   "source": [
    "6. Ingrese cuatro números por teclado a, b, c y d. Si a es igual b ó c es\n",
    "igual a d, imprimir ‘Hola Politécnico Malvinas’"
   ]
  },
  {
   "cell_type": "code",
   "execution_count": null,
   "metadata": {},
   "outputs": [],
   "source": []
  },
  {
   "cell_type": "markdown",
   "metadata": {},
   "source": [
    "7. Ingresar la edad de una persona por teclado, mostrar por pantalla si\n",
    "es mayor o menor de edad."
   ]
  },
  {
   "cell_type": "code",
   "execution_count": null,
   "metadata": {},
   "outputs": [],
   "source": []
  },
  {
   "cell_type": "markdown",
   "metadata": {},
   "source": [
    "8. Ingresar un número por teclado y mostrar por pantalla si es para o\n",
    "impar."
   ]
  },
  {
   "cell_type": "code",
   "execution_count": null,
   "metadata": {},
   "outputs": [],
   "source": []
  },
  {
   "cell_type": "markdown",
   "metadata": {},
   "source": [
    "9. Ingresar por teclado tres\n",
    "números y mostrar por pantalla el mayor de los tres."
   ]
  },
  {
   "cell_type": "code",
   "execution_count": null,
   "metadata": {},
   "outputs": [],
   "source": [
    "10. Ingresar por teclado un nombre, si la variable nombre, no es nula\n",
    "mostrar por pantalla ‘Bienvenido ‘+ nombre, sino mostrar   ‘Bienvenido anónimo’"
   ]
  },
  {
   "cell_type": "code",
   "execution_count": null,
   "metadata": {},
   "outputs": [],
   "source": []
  }
 ],
 "metadata": {
  "kernelspec": {
   "display_name": "Python 3",
   "language": "python",
   "name": "python3"
  },
  "language_info": {
   "codemirror_mode": {
    "name": "ipython",
    "version": 3
   },
   "file_extension": ".py",
   "mimetype": "text/x-python",
   "name": "python",
   "nbconvert_exporter": "python",
   "pygments_lexer": "ipython3",
   "version": "3.11.5"
  }
 },
 "nbformat": 4,
 "nbformat_minor": 2
}
