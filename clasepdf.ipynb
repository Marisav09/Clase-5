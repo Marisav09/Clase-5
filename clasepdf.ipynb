{
 "cells": [
  {
   "cell_type": "markdown",
   "metadata": {},
   "source": [
    "min: Esta función devuelve el valor mínimo de los que le pasen\n",
    "como parámetro."
   ]
  },
  {
   "cell_type": "code",
   "execution_count": 3,
   "metadata": {},
   "outputs": [
    {
     "name": "stdout",
     "output_type": "stream",
     "text": [
      "6\n"
     ]
    }
   ],
   "source": [
    "lista=[14,6,88,37,23,65]\n",
    "minimo=min(lista)\n",
    "print(minimo)"
   ]
  },
  {
   "cell_type": "markdown",
   "metadata": {},
   "source": [
    "max: Esta función devuelve el valor máximo"
   ]
  },
  {
   "cell_type": "code",
   "execution_count": 4,
   "metadata": {},
   "outputs": [
    {
     "name": "stdout",
     "output_type": "stream",
     "text": [
      "88\n"
     ]
    }
   ],
   "source": [
    "maximo=max(lista)\n",
    "print(maximo)"
   ]
  },
  {
   "cell_type": "markdown",
   "metadata": {},
   "source": [
    "enumerate: (iterable, start = 0) devuelve un objeto enumerate, el cual\n",
    "es una tupla de dos elementos en al que el primero es un entero que\n",
    "determina el índice (comenzando por start), y el segundo elemento es\n",
    "el elemento en la posición del índice iterable"
   ]
  },
  {
   "cell_type": "code",
   "execution_count": 5,
   "metadata": {},
   "outputs": [
    {
     "name": "stdout",
     "output_type": "stream",
     "text": [
      "0 Renault\n",
      "1 Ford\n",
      "2 Toyota\n",
      "3 Fiat\n"
     ]
    }
   ],
   "source": [
    "marcas=[\"Renault\",\"Ford\", \"Toyota\", \"Fiat\"]\n",
    "for i,marca in enumerate(marcas):   #enumerate= recorre la lista y obtiene un registro del índice de c/ elemento\n",
    "    print(i, marca)"
   ]
  },
  {
   "cell_type": "markdown",
   "metadata": {},
   "source": [
    "list: ([iterable]) crea una lista con los valores obtenidos tras iterar un\n",
    "iterable hasta llegar al final del mismo."
   ]
  },
  {
   "cell_type": "code",
   "execution_count": 7,
   "metadata": {},
   "outputs": [
    {
     "name": "stdout",
     "output_type": "stream",
     "text": [
      "[1, 2, 3, 4, 5]\n"
     ]
    }
   ],
   "source": [
    "rango=range(1,6)\n",
    "numeros= list(rango)    #convertir cualquier objeto iterable en una lista\n",
    "print(numeros)"
   ]
  },
  {
   "cell_type": "markdown",
   "metadata": {},
   "source": [
    "zip(): se utiliza para combinar varios iterables en un solo objeto iterable que contiene tuplas de elementos\n",
    "correspondiente a cada iterable. Soporta mínimo dos iterables si"
   ]
  },
  {
   "cell_type": "code",
   "execution_count": 9,
   "metadata": {},
   "outputs": [
    {
     "name": "stdout",
     "output_type": "stream",
     "text": [
      "[('Pepito', 9), ('Fulanito', 8), ('Menganito', 6)]\n"
     ]
    }
   ],
   "source": [
    "nombres=[\"Pepito\", \"Fulanito\", \"Menganito\"]\n",
    "edad=[9,8,6]\n",
    "personas=zip(nombres,edad)\n",
    "print(list(personas))"
   ]
  },
  {
   "cell_type": "markdown",
   "metadata": {},
   "source": [
    "Asignaciones simples y Multiples"
   ]
  },
  {
   "cell_type": "code",
   "execution_count": 14,
   "metadata": {},
   "outputs": [
    {
     "name": "stdout",
     "output_type": "stream",
     "text": [
      "10\n",
      "3.14 3.14\n",
      "7\n",
      "8\n",
      "5\n"
     ]
    }
   ],
   "source": [
    "a=10\n",
    "print(a)\n",
    "\n",
    "p=i=3.14\n",
    "print(p,i)\n",
    "\n",
    "s,d,f=[7,8,5]\n",
    "print(s)\n",
    "print(d)\n",
    "print(f)"
   ]
  },
  {
   "cell_type": "markdown",
   "metadata": {},
   "source": [
    "Asignaciones slicing con *: descompone una secuencia en cada uno de sus elementos"
   ]
  },
  {
   "cell_type": "code",
   "execution_count": 20,
   "metadata": {},
   "outputs": [
    {
     "name": "stdout",
     "output_type": "stream",
     "text": [
      "1\n",
      "2\n",
      "[3, 4, 5]\n",
      "6\n",
      "7\n"
     ]
    }
   ],
   "source": [
    "lista1=[1,2,3,4,5,6,7]\n",
    "q,r,*w,f,e= lista1\n",
    "print(q)\n",
    "print(r)\n",
    "print(w)\n",
    "print(f)\n",
    "print(e)"
   ]
  },
  {
   "cell_type": "markdown",
   "metadata": {},
   "source": [
    "Sentencia if Ternaria       Va todo en un solo renglon"
   ]
  },
  {
   "cell_type": "code",
   "execution_count": 24,
   "metadata": {},
   "outputs": [
    {
     "name": "stdout",
     "output_type": "stream",
     "text": [
      "MAyor\n"
     ]
    }
   ],
   "source": [
    "edad =38\n",
    "personita=\"Menor\" if edad < 18 else \"MAyor\"     <----- GUUUAUUUUU\n",
    "print(personita)"
   ]
  }
 ],
 "metadata": {
  "kernelspec": {
   "display_name": "Python 3",
   "language": "python",
   "name": "python3"
  },
  "language_info": {
   "codemirror_mode": {
    "name": "ipython",
    "version": 3
   },
   "file_extension": ".py",
   "mimetype": "text/x-python",
   "name": "python",
   "nbconvert_exporter": "python",
   "pygments_lexer": "ipython3",
   "version": "3.11.5"
  }
 },
 "nbformat": 4,
 "nbformat_minor": 2
}
